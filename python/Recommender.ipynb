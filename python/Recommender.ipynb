{
 "cells": [
  {
   "cell_type": "code",
   "execution_count": 1,
   "metadata": {
    "collapsed": true
   },
   "outputs": [],
   "source": [
    "#import basic Libraries\n",
    "import pandas as pd\n",
    "import numpy as np\n",
    "import random\n",
    "\n",
    "#Importing Sklearn\n",
    "from sklearn.preprocessing import StandardScaler, OneHotEncoder\n",
    "from sklearn.metrics.pairwise import cosine_similarity \n",
    "\n",
    "import warnings\n",
    "warnings.filterwarnings(\"ignore\")\n",
    "\n",
    "%matplotlib inline"
   ]
  },
  {
   "cell_type": "code",
   "execution_count": 3,
   "metadata": {
    "collapsed": true
   },
   "outputs": [],
   "source": [
    "#import of all files from the data folder.\n",
    "aisles = pd.read_csv('./data/aisles.csv')\n",
    "departments = pd.read_csv('./data/departments.csv')\n",
    "products = pd.read_csv('./data/products.csv')\n",
    "order_products__prior = pd.read_csv('./data/order_products__prior.csv')\n",
    "order_products__train = pd.read_csv('./data/order_products__train.csv')\n",
    "orders = pd.read_csv('./data/orders.csv')"
   ]
  },
  {
   "cell_type": "code",
   "execution_count": 4,
   "metadata": {
    "collapsed": true
   },
   "outputs": [],
   "source": [
    "opt = order_products__train.merge(products,how='left', on='product_id')\n",
    "opt = opt.merge(departments,how='left', on='department_id')\n",
    "opt = opt.merge(aisles,how='left', on='aisle_id')"
   ]
  },
  {
   "cell_type": "markdown",
   "metadata": {},
   "source": [
    "# Recommender system"
   ]
  },
  {
   "cell_type": "code",
   "execution_count": 5,
   "metadata": {
    "collapsed": true
   },
   "outputs": [],
   "source": [
    "reorders = opt[opt['reordered'] == 1]"
   ]
  },
  {
   "cell_type": "code",
   "execution_count": 6,
   "metadata": {
    "collapsed": true
   },
   "outputs": [],
   "source": [
    "reorders['product_id'] = reorders['product_id'].astype('int64')"
   ]
  },
  {
   "cell_type": "code",
   "execution_count": 7,
   "metadata": {
    "collapsed": true
   },
   "outputs": [],
   "source": [
    "# get list of hi volume products (products that occurr more than 1 time)\n",
    "hivol = reorders.copy()['product_id'].value_counts().sort_values(ascending=False)\\\n",
    "    [reorders.copy()['product_id'].value_counts().sort_values(ascending=False) > 1].index.tolist()"
   ]
  },
  {
   "cell_type": "code",
   "execution_count": 8,
   "metadata": {
    "collapsed": true
   },
   "outputs": [],
   "source": [
    "reorders = reorders[reorders['product_id'].isin(hivol)]"
   ]
  },
  {
   "cell_type": "code",
   "execution_count": 9,
   "metadata": {
    "collapsed": true
   },
   "outputs": [],
   "source": [
    "#filters the High demand items greater than.\n",
    "reorders['hi_dem'] = (reorders.copy()['product_id'].value_counts().sort_values(ascending=False)>1)"
   ]
  },
  {
   "cell_type": "code",
   "execution_count": 11,
   "metadata": {
    "collapsed": true
   },
   "outputs": [],
   "source": [
    "hidem_ord = reorders[reorders['hi_dem'] == True]"
   ]
  },
  {
   "cell_type": "code",
   "execution_count": 12,
   "metadata": {
    "collapsed": true
   },
   "outputs": [],
   "source": [
    "user_orders = reorders.merge(orders)"
   ]
  },
  {
   "cell_type": "code",
   "execution_count": 13,
   "metadata": {
    "collapsed": true
   },
   "outputs": [],
   "source": [
    "user_orders['hi_dem'] = (user_orders.copy()['product_id'].value_counts().sort_values(ascending=False)>1)"
   ]
  },
  {
   "cell_type": "code",
   "execution_count": 14,
   "metadata": {
    "collapsed": true
   },
   "outputs": [],
   "source": [
    "hidem_ord = user_orders[user_orders['hi_dem'] == True]"
   ]
  },
  {
   "cell_type": "code",
   "execution_count": 19,
   "metadata": {
    "collapsed": true
   },
   "outputs": [],
   "source": [
    "#return the total items\n",
    "users = hidem_ord.groupby(['user_id','product_name']).size().sort_values(ascending=False).unstack().fillna(0)"
   ]
  },
  {
   "cell_type": "code",
   "execution_count": 21,
   "metadata": {
    "collapsed": true
   },
   "outputs": [],
   "source": [
    "#creates a similiarity by users.\n",
    "users_sim = pd.DataFrame(cosine_similarity(users),index=users.index,columns=users.index)"
   ]
  },
  {
   "cell_type": "code",
   "execution_count": 23,
   "metadata": {
    "collapsed": true
   },
   "outputs": [],
   "source": [
    "def next_prod(df, num_col):\n",
    "    return df[df.columns[num_col]].drop(df.columns[num_col]).sort_values(ascending=False).head()"
   ]
  },
  {
   "cell_type": "code",
   "execution_count": 27,
   "metadata": {},
   "outputs": [
    {
     "data": {
      "text/html": [
       "<div>\n",
       "<style>\n",
       "    .dataframe thead tr:only-child th {\n",
       "        text-align: right;\n",
       "    }\n",
       "\n",
       "    .dataframe thead th {\n",
       "        text-align: left;\n",
       "    }\n",
       "\n",
       "    .dataframe tbody tr th {\n",
       "        vertical-align: top;\n",
       "    }\n",
       "</style>\n",
       "<table border=\"1\" class=\"dataframe\">\n",
       "  <thead>\n",
       "    <tr style=\"text-align: right;\">\n",
       "      <th>user_id</th>\n",
       "      <th>43254</th>\n",
       "      <th>48962</th>\n",
       "      <th>10453</th>\n",
       "      <th>202555</th>\n",
       "      <th>166997</th>\n",
       "    </tr>\n",
       "  </thead>\n",
       "  <tbody>\n",
       "    <tr>\n",
       "      <th>1711</th>\n",
       "      <td>0.5</td>\n",
       "      <td>0.353553</td>\n",
       "      <td>0.188982</td>\n",
       "      <td>0.166667</td>\n",
       "      <td>0.158114</td>\n",
       "    </tr>\n",
       "  </tbody>\n",
       "</table>\n",
       "</div>"
      ],
      "text/plain": [
       "user_id  43254     48962     10453     202555    166997\n",
       "1711        0.5  0.353553  0.188982  0.166667  0.158114"
      ]
     },
     "execution_count": 27,
     "metadata": {},
     "output_type": "execute_result"
    }
   ],
   "source": [
    "#returns similar users to this one.\n",
    "pd.DataFrame(next_prod(users_sim, 56)).T"
   ]
  },
  {
   "cell_type": "markdown",
   "metadata": {},
   "source": [
    "# Recommendations for Products by User ID"
   ]
  },
  {
   "cell_type": "code",
   "execution_count": 28,
   "metadata": {
    "collapsed": true
   },
   "outputs": [],
   "source": [
    "#return the total items in the basket from the aisles\n",
    "products = hidem_ord.groupby(['product_name','user_id']).size().sort_values(ascending=False).unstack().fillna(0)"
   ]
  },
  {
   "cell_type": "code",
   "execution_count": 29,
   "metadata": {
    "collapsed": true
   },
   "outputs": [],
   "source": [
    "#creates a similiarity by users.\n",
    "products_sim = pd.DataFrame(cosine_similarity(products),index=products.index,columns=products.index)"
   ]
  },
  {
   "cell_type": "code",
   "execution_count": 61,
   "metadata": {},
   "outputs": [
    {
     "data": {
      "text/html": [
       "<div>\n",
       "<style>\n",
       "    .dataframe thead tr:only-child th {\n",
       "        text-align: right;\n",
       "    }\n",
       "\n",
       "    .dataframe thead th {\n",
       "        text-align: left;\n",
       "    }\n",
       "\n",
       "    .dataframe tbody tr th {\n",
       "        vertical-align: top;\n",
       "    }\n",
       "</style>\n",
       "<table border=\"1\" class=\"dataframe\">\n",
       "  <thead>\n",
       "    <tr style=\"text-align: right;\">\n",
       "      <th>user_id</th>\n",
       "      <th>55</th>\n",
       "      <th>56</th>\n",
       "      <th>66</th>\n",
       "      <th>79</th>\n",
       "      <th>110</th>\n",
       "      <th>215</th>\n",
       "      <th>223</th>\n",
       "      <th>249</th>\n",
       "      <th>283</th>\n",
       "      <th>285</th>\n",
       "      <th>...</th>\n",
       "      <th>206023</th>\n",
       "      <th>206040</th>\n",
       "      <th>206082</th>\n",
       "      <th>206111</th>\n",
       "      <th>206136</th>\n",
       "      <th>206140</th>\n",
       "      <th>206158</th>\n",
       "      <th>206162</th>\n",
       "      <th>206177</th>\n",
       "      <th>206186</th>\n",
       "    </tr>\n",
       "    <tr>\n",
       "      <th>product_name</th>\n",
       "      <th></th>\n",
       "      <th></th>\n",
       "      <th></th>\n",
       "      <th></th>\n",
       "      <th></th>\n",
       "      <th></th>\n",
       "      <th></th>\n",
       "      <th></th>\n",
       "      <th></th>\n",
       "      <th></th>\n",
       "      <th></th>\n",
       "      <th></th>\n",
       "      <th></th>\n",
       "      <th></th>\n",
       "      <th></th>\n",
       "      <th></th>\n",
       "      <th></th>\n",
       "      <th></th>\n",
       "      <th></th>\n",
       "      <th></th>\n",
       "      <th></th>\n",
       "    </tr>\n",
       "  </thead>\n",
       "  <tbody>\n",
       "    <tr>\n",
       "      <th>0 Calorie Fuji Apple Pear Water Beverage</th>\n",
       "      <td>0.0</td>\n",
       "      <td>0.0</td>\n",
       "      <td>0.0</td>\n",
       "      <td>0.0</td>\n",
       "      <td>0.0</td>\n",
       "      <td>0.0</td>\n",
       "      <td>0.0</td>\n",
       "      <td>0.0</td>\n",
       "      <td>0.0</td>\n",
       "      <td>0.0</td>\n",
       "      <td>...</td>\n",
       "      <td>0.0</td>\n",
       "      <td>0.0</td>\n",
       "      <td>0.0</td>\n",
       "      <td>0.0</td>\n",
       "      <td>0.0</td>\n",
       "      <td>0.0</td>\n",
       "      <td>0.0</td>\n",
       "      <td>0.0</td>\n",
       "      <td>0.0</td>\n",
       "      <td>0.0</td>\n",
       "    </tr>\n",
       "    <tr>\n",
       "      <th>0% Fat Free Organic Milk</th>\n",
       "      <td>0.0</td>\n",
       "      <td>0.0</td>\n",
       "      <td>0.0</td>\n",
       "      <td>0.0</td>\n",
       "      <td>0.0</td>\n",
       "      <td>0.0</td>\n",
       "      <td>0.0</td>\n",
       "      <td>0.0</td>\n",
       "      <td>0.0</td>\n",
       "      <td>0.0</td>\n",
       "      <td>...</td>\n",
       "      <td>0.0</td>\n",
       "      <td>0.0</td>\n",
       "      <td>0.0</td>\n",
       "      <td>0.0</td>\n",
       "      <td>0.0</td>\n",
       "      <td>0.0</td>\n",
       "      <td>0.0</td>\n",
       "      <td>0.0</td>\n",
       "      <td>0.0</td>\n",
       "      <td>0.0</td>\n",
       "    </tr>\n",
       "    <tr>\n",
       "      <th>0% Fat Organic Greek Vanilla Yogurt</th>\n",
       "      <td>0.0</td>\n",
       "      <td>0.0</td>\n",
       "      <td>0.0</td>\n",
       "      <td>0.0</td>\n",
       "      <td>0.0</td>\n",
       "      <td>0.0</td>\n",
       "      <td>0.0</td>\n",
       "      <td>0.0</td>\n",
       "      <td>0.0</td>\n",
       "      <td>0.0</td>\n",
       "      <td>...</td>\n",
       "      <td>0.0</td>\n",
       "      <td>0.0</td>\n",
       "      <td>0.0</td>\n",
       "      <td>0.0</td>\n",
       "      <td>0.0</td>\n",
       "      <td>0.0</td>\n",
       "      <td>0.0</td>\n",
       "      <td>0.0</td>\n",
       "      <td>0.0</td>\n",
       "      <td>0.0</td>\n",
       "    </tr>\n",
       "    <tr>\n",
       "      <th>0% Fat Strawberry Greek Yogurt</th>\n",
       "      <td>0.0</td>\n",
       "      <td>0.0</td>\n",
       "      <td>0.0</td>\n",
       "      <td>0.0</td>\n",
       "      <td>0.0</td>\n",
       "      <td>0.0</td>\n",
       "      <td>0.0</td>\n",
       "      <td>0.0</td>\n",
       "      <td>0.0</td>\n",
       "      <td>0.0</td>\n",
       "      <td>...</td>\n",
       "      <td>0.0</td>\n",
       "      <td>0.0</td>\n",
       "      <td>0.0</td>\n",
       "      <td>0.0</td>\n",
       "      <td>0.0</td>\n",
       "      <td>0.0</td>\n",
       "      <td>0.0</td>\n",
       "      <td>0.0</td>\n",
       "      <td>0.0</td>\n",
       "      <td>0.0</td>\n",
       "    </tr>\n",
       "    <tr>\n",
       "      <th>0% Greek Strained Yogurt</th>\n",
       "      <td>0.0</td>\n",
       "      <td>0.0</td>\n",
       "      <td>0.0</td>\n",
       "      <td>0.0</td>\n",
       "      <td>0.0</td>\n",
       "      <td>0.0</td>\n",
       "      <td>0.0</td>\n",
       "      <td>0.0</td>\n",
       "      <td>0.0</td>\n",
       "      <td>0.0</td>\n",
       "      <td>...</td>\n",
       "      <td>0.0</td>\n",
       "      <td>0.0</td>\n",
       "      <td>0.0</td>\n",
       "      <td>0.0</td>\n",
       "      <td>0.0</td>\n",
       "      <td>0.0</td>\n",
       "      <td>0.0</td>\n",
       "      <td>0.0</td>\n",
       "      <td>0.0</td>\n",
       "      <td>0.0</td>\n",
       "    </tr>\n",
       "  </tbody>\n",
       "</table>\n",
       "<p>5 rows × 6336 columns</p>\n",
       "</div>"
      ],
      "text/plain": [
       "user_id                                   55      56      66      79      \\\n",
       "product_name                                                               \n",
       "0 Calorie Fuji Apple Pear Water Beverage     0.0     0.0     0.0     0.0   \n",
       "0% Fat Free Organic Milk                     0.0     0.0     0.0     0.0   \n",
       "0% Fat Organic Greek Vanilla Yogurt          0.0     0.0     0.0     0.0   \n",
       "0% Fat Strawberry Greek Yogurt               0.0     0.0     0.0     0.0   \n",
       "0% Greek Strained Yogurt                     0.0     0.0     0.0     0.0   \n",
       "\n",
       "user_id                                   110     215     223     249     \\\n",
       "product_name                                                               \n",
       "0 Calorie Fuji Apple Pear Water Beverage     0.0     0.0     0.0     0.0   \n",
       "0% Fat Free Organic Milk                     0.0     0.0     0.0     0.0   \n",
       "0% Fat Organic Greek Vanilla Yogurt          0.0     0.0     0.0     0.0   \n",
       "0% Fat Strawberry Greek Yogurt               0.0     0.0     0.0     0.0   \n",
       "0% Greek Strained Yogurt                     0.0     0.0     0.0     0.0   \n",
       "\n",
       "user_id                                   283     285      ...    206023  \\\n",
       "product_name                                               ...             \n",
       "0 Calorie Fuji Apple Pear Water Beverage     0.0     0.0   ...       0.0   \n",
       "0% Fat Free Organic Milk                     0.0     0.0   ...       0.0   \n",
       "0% Fat Organic Greek Vanilla Yogurt          0.0     0.0   ...       0.0   \n",
       "0% Fat Strawberry Greek Yogurt               0.0     0.0   ...       0.0   \n",
       "0% Greek Strained Yogurt                     0.0     0.0   ...       0.0   \n",
       "\n",
       "user_id                                   206040  206082  206111  206136  \\\n",
       "product_name                                                               \n",
       "0 Calorie Fuji Apple Pear Water Beverage     0.0     0.0     0.0     0.0   \n",
       "0% Fat Free Organic Milk                     0.0     0.0     0.0     0.0   \n",
       "0% Fat Organic Greek Vanilla Yogurt          0.0     0.0     0.0     0.0   \n",
       "0% Fat Strawberry Greek Yogurt               0.0     0.0     0.0     0.0   \n",
       "0% Greek Strained Yogurt                     0.0     0.0     0.0     0.0   \n",
       "\n",
       "user_id                                   206140  206158  206162  206177  \\\n",
       "product_name                                                               \n",
       "0 Calorie Fuji Apple Pear Water Beverage     0.0     0.0     0.0     0.0   \n",
       "0% Fat Free Organic Milk                     0.0     0.0     0.0     0.0   \n",
       "0% Fat Organic Greek Vanilla Yogurt          0.0     0.0     0.0     0.0   \n",
       "0% Fat Strawberry Greek Yogurt               0.0     0.0     0.0     0.0   \n",
       "0% Greek Strained Yogurt                     0.0     0.0     0.0     0.0   \n",
       "\n",
       "user_id                                   206186  \n",
       "product_name                                      \n",
       "0 Calorie Fuji Apple Pear Water Beverage     0.0  \n",
       "0% Fat Free Organic Milk                     0.0  \n",
       "0% Fat Organic Greek Vanilla Yogurt          0.0  \n",
       "0% Fat Strawberry Greek Yogurt               0.0  \n",
       "0% Greek Strained Yogurt                     0.0  \n",
       "\n",
       "[5 rows x 6336 columns]"
      ]
     },
     "execution_count": 61,
     "metadata": {},
     "output_type": "execute_result"
    }
   ],
   "source": [
    "products.head()"
   ]
  },
  {
   "cell_type": "code",
   "execution_count": 64,
   "metadata": {},
   "outputs": [
    {
     "data": {
      "text/html": [
       "<div>\n",
       "<style>\n",
       "    .dataframe thead tr:only-child th {\n",
       "        text-align: right;\n",
       "    }\n",
       "\n",
       "    .dataframe thead th {\n",
       "        text-align: left;\n",
       "    }\n",
       "\n",
       "    .dataframe tbody tr th {\n",
       "        vertical-align: top;\n",
       "    }\n",
       "</style>\n",
       "<table border=\"1\" class=\"dataframe\">\n",
       "  <thead>\n",
       "    <tr style=\"text-align: right;\">\n",
       "      <th>product_name</th>\n",
       "      <th>Organic Maitake Mushrooms</th>\n",
       "      <th>Ruby Red Grapefruit Juice</th>\n",
       "      <th>Organic Heavy Cream</th>\n",
       "      <th>Organic Classic Rich Crackers</th>\n",
       "      <th>Thyme</th>\n",
       "    </tr>\n",
       "  </thead>\n",
       "  <tbody>\n",
       "    <tr>\n",
       "      <th>100% Pomegranate Juice</th>\n",
       "      <td>0.5</td>\n",
       "      <td>0.353553</td>\n",
       "      <td>0.353553</td>\n",
       "      <td>0.288675</td>\n",
       "      <td>0.288675</td>\n",
       "    </tr>\n",
       "  </tbody>\n",
       "</table>\n",
       "</div>"
      ],
      "text/plain": [
       "product_name            Organic Maitake Mushrooms  Ruby Red Grapefruit Juice  \\\n",
       "100% Pomegranate Juice                        0.5                   0.353553   \n",
       "\n",
       "product_name            Organic Heavy Cream  Organic Classic Rich Crackers  \\\n",
       "100% Pomegranate Juice             0.353553                       0.288675   \n",
       "\n",
       "product_name               Thyme  \n",
       "100% Pomegranate Juice  0.288675  "
      ]
     },
     "execution_count": 64,
     "metadata": {},
     "output_type": "execute_result"
    }
   ],
   "source": [
    "#gives a recommendation for the last product added_to_cart\n",
    "pd.DataFrame(next_prod(products_sim, 56)).T"
   ]
  },
  {
   "cell_type": "code",
   "execution_count": 56,
   "metadata": {
    "collapsed": true
   },
   "outputs": [],
   "source": [
    "profile = pd.Series(np.zeros(len(products.columns.tolist())),users_sim[55])"
   ]
  },
  {
   "cell_type": "code",
   "execution_count": 65,
   "metadata": {
    "collapsed": true
   },
   "outputs": [],
   "source": [
    "recommendations = np.dot(products.values,users_sim[56])"
   ]
  },
  {
   "cell_type": "code",
   "execution_count": 66,
   "metadata": {
    "collapsed": true
   },
   "outputs": [],
   "source": [
    "recommendations = pd.Series(recommendations, index=products.index)"
   ]
  },
  {
   "cell_type": "code",
   "execution_count": 67,
   "metadata": {},
   "outputs": [
    {
     "data": {
      "text/plain": [
       "product_name\n",
       "Large Lemon             48.067533\n",
       "Organic Blackberries    14.086878\n",
       "Banana                   6.675101\n",
       "Organic Avocado          3.983752\n",
       "Organic Baby Spinach     3.623921\n",
       "dtype: float64"
      ]
     },
     "execution_count": 67,
     "metadata": {},
     "output_type": "execute_result"
    }
   ],
   "source": [
    "recommendations.sort_values(ascending=False).head()"
   ]
  },
  {
   "cell_type": "markdown",
   "metadata": {},
   "source": [
    "# Recommendations by Products"
   ]
  },
  {
   "cell_type": "code",
   "execution_count": 44,
   "metadata": {
    "collapsed": true
   },
   "outputs": [],
   "source": [
    "#return the total items\n",
    "ords = hidem_ord.groupby(['order_id','product_name']).size().sort_values(ascending=False).unstack().fillna(0)"
   ]
  },
  {
   "cell_type": "code",
   "execution_count": 45,
   "metadata": {
    "collapsed": true
   },
   "outputs": [],
   "source": [
    "#creates a similiarity by users.\n",
    "ords_sim = pd.DataFrame(cosine_similarity(ords),index=ords.index,columns=ords.index)"
   ]
  },
  {
   "cell_type": "code",
   "execution_count": 63,
   "metadata": {},
   "outputs": [
    {
     "data": {
      "text/html": [
       "<div>\n",
       "<style>\n",
       "    .dataframe thead tr:only-child th {\n",
       "        text-align: right;\n",
       "    }\n",
       "\n",
       "    .dataframe thead th {\n",
       "        text-align: left;\n",
       "    }\n",
       "\n",
       "    .dataframe tbody tr th {\n",
       "        vertical-align: top;\n",
       "    }\n",
       "</style>\n",
       "<table border=\"1\" class=\"dataframe\">\n",
       "  <thead>\n",
       "    <tr style=\"text-align: right;\">\n",
       "      <th>user_id</th>\n",
       "      <th>43254</th>\n",
       "      <th>48962</th>\n",
       "      <th>10453</th>\n",
       "      <th>202555</th>\n",
       "      <th>166997</th>\n",
       "    </tr>\n",
       "  </thead>\n",
       "  <tbody>\n",
       "    <tr>\n",
       "      <th>1711</th>\n",
       "      <td>0.5</td>\n",
       "      <td>0.353553</td>\n",
       "      <td>0.188982</td>\n",
       "      <td>0.166667</td>\n",
       "      <td>0.158114</td>\n",
       "    </tr>\n",
       "  </tbody>\n",
       "</table>\n",
       "</div>"
      ],
      "text/plain": [
       "user_id  43254     48962     10453     202555    166997\n",
       "1711        0.5  0.353553  0.188982  0.166667  0.158114"
      ]
     },
     "execution_count": 63,
     "metadata": {},
     "output_type": "execute_result"
    }
   ],
   "source": [
    "#displays which users are similar to the current user.\n",
    "pd.DataFrame(next_prod(users_sim,56)).T"
   ]
  },
  {
   "cell_type": "markdown",
   "metadata": {},
   "source": [
    "# Product Recommender by Order ID"
   ]
  },
  {
   "cell_type": "code",
   "execution_count": 52,
   "metadata": {
    "collapsed": true
   },
   "outputs": [],
   "source": [
    "baskets = hidem_ord.groupby(['product_name','order_id']).size().sort_values(ascending=False).unstack().fillna(0)"
   ]
  },
  {
   "cell_type": "code",
   "execution_count": 53,
   "metadata": {
    "collapsed": true
   },
   "outputs": [],
   "source": [
    "basket_sim = pd.DataFrame(cosine_similarity(baskets),columns=baskets.index,index=baskets.index)"
   ]
  },
  {
   "cell_type": "code",
   "execution_count": 68,
   "metadata": {},
   "outputs": [
    {
     "data": {
      "text/plain": [
       "product_name\n",
       "Chocolate Cheerios Cereal                      0.577350\n",
       "Organic Green Peas                             0.408248\n",
       "Quick & Easy Steel Cut Irish Oatmeal           0.408248\n",
       "Small Size Flour Tortillas                     0.333333\n",
       "Raspberry on the Bottom Nonfat Greek Yogurt    0.235702\n",
       "Sweet Onions                                   0.218218\n",
       "Flat Parsley, Bunch                            0.174078\n",
       "Green Beans                                    0.149071\n",
       "Organic Kiwi                                   0.107211\n",
       "Name: Zucchini Squash, dtype: float64"
      ]
     },
     "execution_count": 68,
     "metadata": {},
     "output_type": "execute_result"
    }
   ],
   "source": [
    "basket_sim['Zucchini Squash'].sort_values(ascending=False).head(10)[1:]"
   ]
  },
  {
   "cell_type": "code",
   "execution_count": 69,
   "metadata": {
    "collapsed": true
   },
   "outputs": [],
   "source": [
    "def Recommender_System(user_id):\n",
    "    \n",
    "    '''\n",
    "    Input User Id to see recommendations for the User\n",
    "    '''\n",
    "    \n",
    "    u = hidem_ord.groupby(['user_id','product_name']).size().sort_values(ascending=False).unstack().fillna(0)\n",
    "    u_sim = pd.DataFrame(cosine_similarity(u),index=u.index,columns=u.index)\n",
    "\n",
    "    p = hidem_ord.groupby(['product_name','user_id']).size().sort_values(ascending=False).unstack().fillna(0)\n",
    "    products_sim = pd.DataFrame(cosine_similarity(p),index=p.index,columns=p.index)\n",
    "    profile = pd.Series(np.zeros(len(u_sim.columns.tolist())),u_sim[user_id])\n",
    "    \n",
    "    recommendations = pd.Series(np.dot(p.values,users_sim[user_id]), index=p.index)\n",
    "    return recommendations.sort_values(ascending=False).head(), \n",
    "    "
   ]
  },
  {
   "cell_type": "code",
   "execution_count": 70,
   "metadata": {},
   "outputs": [
    {
     "data": {
      "text/plain": [
       "[57996]"
      ]
     },
     "execution_count": 70,
     "metadata": {},
     "output_type": "execute_result"
    }
   ],
   "source": [
    "#gives a random user ID to for input to the recommender system\n",
    "random.sample(hidem_ord['user_id'].tolist(),1)"
   ]
  },
  {
   "cell_type": "code",
   "execution_count": 71,
   "metadata": {},
   "outputs": [
    {
     "data": {
      "text/plain": [
       "(product_name\n",
       " Large Lemon             48.067533\n",
       " Organic Blackberries    14.086878\n",
       " Banana                   6.675101\n",
       " Organic Avocado          3.983752\n",
       " Organic Baby Spinach     3.623921\n",
       " dtype: float64,)"
      ]
     },
     "execution_count": 71,
     "metadata": {},
     "output_type": "execute_result"
    }
   ],
   "source": [
    "Recommender_System(56)"
   ]
  },
  {
   "cell_type": "code",
   "execution_count": null,
   "metadata": {
    "collapsed": true
   },
   "outputs": [],
   "source": []
  }
 ],
 "metadata": {
  "kernelspec": {
   "display_name": "Python 3",
   "language": "python",
   "name": "python3"
  },
  "language_info": {
   "codemirror_mode": {
    "name": "ipython",
    "version": 3
   },
   "file_extension": ".py",
   "mimetype": "text/x-python",
   "name": "python",
   "nbconvert_exporter": "python",
   "pygments_lexer": "ipython3",
   "version": "3.6.3"
  }
 },
 "nbformat": 4,
 "nbformat_minor": 2
}
